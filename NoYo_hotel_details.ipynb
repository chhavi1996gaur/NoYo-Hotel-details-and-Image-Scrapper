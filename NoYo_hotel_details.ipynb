{
 "cells": [
  {
   "cell_type": "code",
   "execution_count": 1,
   "metadata": {},
   "outputs": [],
   "source": [
    "from bs4 import BeautifulSoup"
   ]
  },
  {
   "cell_type": "code",
   "execution_count": 2,
   "metadata": {},
   "outputs": [
    {
     "name": "stdout",
     "output_type": "stream",
     "text": [
      "Requirement already satisfied: selenium in c:\\users\\chhav\\anaconda3\\lib\\site-packages (3.141.0)\n",
      "Requirement already satisfied: urllib3 in c:\\users\\chhav\\anaconda3\\lib\\site-packages (from selenium) (1.25.9)\n"
     ]
    }
   ],
   "source": [
    "!pip install selenium"
   ]
  },
  {
   "cell_type": "code",
   "execution_count": 3,
   "metadata": {},
   "outputs": [],
   "source": [
    "from urllib.parse import urlparse\n",
    "import os\n",
    "import urllib\n",
    "import time\n",
    "from selenium import webdriver\n",
    "from selenium.webdriver.support.ui import WebDriverWait\n",
    "from selenium.webdriver.support import expected_conditions as EC\n",
    "from selenium.webdriver.common.by import By\n",
    "import pandas as pd"
   ]
  },
  {
   "cell_type": "code",
   "execution_count": null,
   "metadata": {},
   "outputs": [],
   "source": [
    "import requests"
   ]
  },
  {
   "cell_type": "code",
   "execution_count": 20,
   "metadata": {},
   "outputs": [],
   "source": [
    "from selenium.webdriver.common.keys import Keys\n",
    "import os\n",
    "import json\n",
    "from urllib.request import *\n",
    "import sys\n",
    "import time\n"
   ]
  },
  {
   "cell_type": "code",
   "execution_count": 89,
   "metadata": {},
   "outputs": [],
   "source": [
    "driver = webdriver.Chrome()\n",
    "headers = {'USER_AGENT' : 'Mozilla/5.0 (compatible; Googlebot/2.1; +http://www.google.com/bot.html)'}\n",
    "url = \"https://www.booking.com/searchresults.html?label=gen173nr-1FCAEoggI46AdIM1gEaGyIAQGYATG4ARfIAQzYAQHoAQH4AQKIAgGoAgO4Ao-9i_wFwAIB0gIkNzFhYTIxNTUtNDQ2Yy00YTg1LWJhNzQtNjU5NzAyYWY4YmRl2AIF4AIB&sid=f4078a962c7d43f3e1fcf61ffb7780c5&sb=1&src=searchresults&src_elem=sb&error_url=https%3A%2F%2Fwww.booking.com%2Fsearchresults.html%3Flabel%3Dgen173nr-1FCAEoggI46AdIM1gEaGyIAQGYATG4ARfIAQzYAQHoAQH4AQKIAgGoAgO4Ao-9i_wFwAIB0gIkNzFhYTIxNTUtNDQ2Yy00YTg1LWJhNzQtNjU5NzAyYWY4YmRl2AIF4AIB%3Bsid%3Df4078a962c7d43f3e1fcf61ffb7780c5%3Btmpl%3Dsearchresults%3Bcheckin_month%3D10%3Bcheckin_monthday%3D31%3Bcheckin_year%3D2020%3Bcheckout_month%3D11%3Bcheckout_monthday%3D1%3Bcheckout_year%3D2020%3Bclass_interval%3D1%3Bdest_id%3D4127%3Bdest_type%3Dregion%3Bdtdisc%3D0%3Bfrom_sf%3D1%3Bgroup_adults%3D2%3Bgroup_children%3D0%3Binac%3D0%3Bindex_postcard%3D0%3Blabel_click%3Dundef%3Bno_rooms%3D1%3Boffset%3D0%3Bpostcard%3D0%3Braw_dest_type%3Dregion%3Broom1%3DA%252CA%3Bsb_price_type%3Dtotal%3Bsearch_selected%3D1%3Bshw_aparth%3D1%3Bslp_r_match%3D0%3Bsrc%3Dindex%3Bsrc_elem%3Dsb%3Bsrpvid%3D7ae516361e58012c%3Bss%3DGoa%252C%2520India%3Bss_all%3D0%3Bssb%3Dempty%3Bsshis%3D0%3Btop_ufis%3D1%26%3B&ss=Goa&is_ski_area=0&ssne=Goa&ssne_untouched=Goa&dest_id=4127&dest_type=region&checkin_year=2020&checkin_month=11&checkin_monthday=30&checkout_year=2020&checkout_month=12&checkout_monthday=1&group_adults=2&group_children=0&no_rooms=1&from_sf=1\"\n",
    "response = requests.get(url, headers = headers)\n",
    "#fname = \n",
    "soup = BeautifulSoup(response.content, 'lxml')\n",
    "time.sleep(2)\n",
    "driver.get('https://www.booking.com/')\n",
    "time.sleep(2)\n",
    "driver.find_element_by_name(\"ss\").send_keys('Goa')\n",
    "time.sleep(2)\n",
    "driver.find_element_by_class_name(\"bk-icon.-experiments-calendar.sb-date-picker_icon-svg\").click()\n",
    "time.sleep(2)\n",
    "driver.find_element_by_xpath('//*[@id=\"frm\"]/div[1]/div[2]/div[2]/div/div/div[3]/div[2]/table/tbody/tr[1]/td[1]').click()\n",
    "time.sleep(2)\n",
    "driver.find_element_by_xpath('//*[@id=\"frm\"]/div[1]/div[2]/div[2]/div/div/div[3]/div[2]/table/tbody/tr[1]/td[2]').click()\n",
    "time.sleep(2)\n",
    "driver.find_element_by_class_name(\"sb-searchbox__button \").click()\n",
    "time.sleep(2)\n",
    "location_list = []\n",
    "names_list = []\n",
    "price_list = []\n",
    "review_list = []\n",
    "review_scores_list = []\n",
    "pics_list = []\n",
    "for i in range(2,38):\n",
    "    items = driver.find_elements_by_class_name('sr_item.sr_item_new.sr_item_default.sr_property_block.sr_card_no_hover.sr_flex_layout.sr_item--highlighted.with_dates')\n",
    "    names = driver.find_elements_by_class_name('sr-hotel__name')\n",
    "    prices = driver.find_elements_by_class_name('bui-price-display__value.prco-inline-block-maker-helper')\n",
    "    review_scores = driver.find_elements_by_class_name('bui-review-score__badge')\n",
    "    reviews = driver.find_elements_by_class_name('bui-review-score__title')\n",
    "    locations = driver.find_elements_by_class_name('bui-link')\n",
    "    # Making seperate dataframes from lists for names, price, review_score and reviews and location\n",
    "    for name in names:\n",
    "        names_list.append(name.text)\n",
    "        df2 = pd.DataFrame(names_list, columns = ['names'])\n",
    "    for price in prices:\n",
    "        price_list.append(price.text)\n",
    "        df3 = pd.DataFrame(price_list, columns = ['price'])\n",
    "    for review_score in review_scores:\n",
    "        review_scores_list.append(review_score.text)\n",
    "        df4 = pd.DataFrame(review_scores_list, columns = ['review_score'])\n",
    "    for review in reviews:\n",
    "        review_list.append(review.text)\n",
    "        df5 = pd.DataFrame(review_list, columns = ['review'])\n",
    "    for location in locations:\n",
    "        location_list.append(location.text)\n",
    "        df6 = pd.DataFrame(location_list, columns = ['location'])\n",
    "    time.sleep(4)\n",
    "    if i == 2:\n",
    "        next_page = driver.find_element_by_class_name('bui-pagination__link.paging-next.ga_sr_gotopage_'+str(i)+'_47').click()\n",
    "    else:\n",
    "        next_page = driver.find_element_by_class_name('bui-pagination__link.paging-next.ga_sr_gotopage_'+str(i)+'_37').click()\n",
    "    time.sleep(5)\n",
    "    #Joining the dataframes to make a common dataframe\n",
    "    df_7 = df2.join(df3)\n",
    "    df_8 = df_7.join(df4)\n",
    "    df9 = df_8.join(df5)\n",
    "    df_final = df9.join(df6)\n",
    "    i += 1\n",
    "df_final\n",
    "# Saving the outpit as a csv file.\n",
    "df_final.to_csv(r'C:\\Users\\chhav\\OneDrive\\Desktop\\NoYo.csv')"
   ]
  },
  {
   "cell_type": "code",
   "execution_count": null,
   "metadata": {},
   "outputs": [],
   "source": []
  },
  {
   "cell_type": "code",
   "execution_count": null,
   "metadata": {},
   "outputs": [],
   "source": []
  },
  {
   "cell_type": "code",
   "execution_count": 99,
   "metadata": {},
   "outputs": [],
   "source": []
  },
  {
   "cell_type": "code",
   "execution_count": null,
   "metadata": {},
   "outputs": [],
   "source": []
  },
  {
   "cell_type": "code",
   "execution_count": null,
   "metadata": {},
   "outputs": [],
   "source": []
  },
  {
   "cell_type": "code",
   "execution_count": null,
   "metadata": {},
   "outputs": [],
   "source": []
  },
  {
   "cell_type": "code",
   "execution_count": 73,
   "metadata": {},
   "outputs": [],
   "source": []
  },
  {
   "cell_type": "code",
   "execution_count": null,
   "metadata": {},
   "outputs": [],
   "source": []
  },
  {
   "cell_type": "code",
   "execution_count": null,
   "metadata": {},
   "outputs": [],
   "source": []
  },
  {
   "cell_type": "code",
   "execution_count": 75,
   "metadata": {},
   "outputs": [],
   "source": []
  },
  {
   "cell_type": "code",
   "execution_count": 7,
   "metadata": {},
   "outputs": [],
   "source": []
  },
  {
   "cell_type": "code",
   "execution_count": null,
   "metadata": {},
   "outputs": [],
   "source": []
  },
  {
   "cell_type": "code",
   "execution_count": null,
   "metadata": {},
   "outputs": [],
   "source": []
  },
  {
   "cell_type": "code",
   "execution_count": null,
   "metadata": {},
   "outputs": [],
   "source": []
  },
  {
   "cell_type": "code",
   "execution_count": null,
   "metadata": {},
   "outputs": [],
   "source": []
  },
  {
   "cell_type": "code",
   "execution_count": null,
   "metadata": {},
   "outputs": [],
   "source": []
  }
 ],
 "metadata": {
  "kernelspec": {
   "display_name": "Python 3",
   "language": "python",
   "name": "python3"
  },
  "language_info": {
   "codemirror_mode": {
    "name": "ipython",
    "version": 3
   },
   "file_extension": ".py",
   "mimetype": "text/x-python",
   "name": "python",
   "nbconvert_exporter": "python",
   "pygments_lexer": "ipython3",
   "version": "3.8.3"
  }
 },
 "nbformat": 4,
 "nbformat_minor": 4
}
